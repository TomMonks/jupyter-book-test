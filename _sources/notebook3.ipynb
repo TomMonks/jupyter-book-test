{
 "cells": [
  {
   "cell_type": "markdown",
   "metadata": {},
   "source": [
    "# Just a markdown page"
   ]
  },
  {
   "cell_type": "markdown",
   "metadata": {},
   "source": [
    "Welcome to page number 3!\n",
    "\n",
    "Children in England are being unfairly punished by the insistence they must abide by \"incorrect\" positive results from rapid Covid tests, experts say.\n",
    "\n",
    "Reports have emerged of pupils having to isolate after testing positive at school using the on-the-spot checks - only for a more reliable follow-up lab-based PCR test to find them negative.\n",
    "\n",
    "Parents said it was \"ruining\" the return to school.\n",
    "\n",
    "Rapid tests at home or in workplaces can be overruled by a lab test.\n",
    "\n",
    "But the government has insisted this cannot happen for tests done in school - although it has been unable to explain why."
   ]
  },
  {
   "cell_type": "code",
   "execution_count": null,
   "metadata": {},
   "outputs": [],
   "source": []
  }
 ],
 "metadata": {
  "kernelspec": {
   "display_name": "Python 3",
   "language": "python",
   "name": "python3"
  },
  "language_info": {
   "codemirror_mode": {
    "name": "ipython",
    "version": 3
   },
   "file_extension": ".py",
   "mimetype": "text/x-python",
   "name": "python",
   "nbconvert_exporter": "python",
   "pygments_lexer": "ipython3",
   "version": "3.7.4"
  }
 },
 "nbformat": 4,
 "nbformat_minor": 4
}
